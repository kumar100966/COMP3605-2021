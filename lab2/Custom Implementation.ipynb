{
 "cells": [
  {
   "cell_type": "code",
   "execution_count": 9,
   "metadata": {},
   "outputs": [],
   "source": [
    "import numpy as np\n",
    "from collections import defaultdict"
   ]
  },
  {
   "cell_type": "code",
   "execution_count": 2,
   "metadata": {},
   "outputs": [],
   "source": [
    "D = np.array([\n",
    "    [0, 0, 1, 0, 1],\n",
    "    [0, 1, 1, 1, 1],\n",
    "    [0, 2, 0, 1, 0],\n",
    "    [0, 2, 0, 1, 0],\n",
    "    [0, 1, 0, 0, 0],\n",
    "    [1, 0, 1, 1, 1],\n",
    "    [1, 1, 1, 0, 1],\n",
    "    [1, 2, 0, 0, 1],\n",
    "    [1, 1, 0, 1, 1],\n",
    "    [2, 0, 1, 0, 1],\n",
    "    [2, 1, 1, 0, 1],\n",
    "    [2, 1, 0, 1, 1],\n",
    "    [2, 0, 1, 1, 0],\n",
    "    [2, 1, 0, 1, 0]\n",
    "])"
   ]
  },
  {
   "cell_type": "code",
   "execution_count": 21,
   "metadata": {},
   "outputs": [
    {
     "output_type": "execute_result",
     "data": {
      "text/plain": "array([[0, 0, 1, 0, 1],\n       [0, 1, 1, 1, 1],\n       [1, 0, 1, 1, 1],\n       [1, 1, 1, 0, 1],\n       [1, 2, 0, 0, 1],\n       [1, 1, 0, 1, 1],\n       [2, 0, 1, 0, 1],\n       [2, 1, 1, 0, 1],\n       [2, 1, 0, 1, 1]])"
     },
     "metadata": {},
     "execution_count": 21
    }
   ],
   "source": [
    "D[D[:, -1] == 1, :]"
   ]
  },
  {
   "cell_type": "code",
   "execution_count": 7,
   "metadata": {},
   "outputs": [],
   "source": [
    "def compute_entropy(X, target):\n",
    "    counts = defaultdict(float)\n",
    "    N = 0.0\n",
    "    for x in X:\n",
    "       \n",
    "s[x[target]] += 1\n",
    "        N += 1\n",
    "    entropy = 0.0\n",
    "    for k, v in counts.items():\n",
    "        p = (v/N)\n",
    "        entropy +=  p * np.log2(p)\n",
    "    return -entropy\n",
    "\n",
    "\n",
    "def compute_conditional_entropy(X, target, conditioning_feature):\n",
    "    counts = defaultdict(float)\n",
    "    subsets = defaultdict(list)\n",
    "    N = 0.0\n",
    "    for x in X:\n",
    "        counts[x[conditioning_feature]] += 1.0\n",
    "        subsets[x[conditioning_feature]].append(x)\n",
    "        N += 1.0 \n",
    "    conditional_entropy = 0.0\n",
    "    for k, v in subsets.items():\n",
    "        factor = counts[k] / N \n",
    "        conditional_entropy += factor * compute_entropy(v, target)\n",
    "    return conditional_entropy\n",
    "     \n",
    "        \n",
    "def compute_information_gain(X, target, feature):\n",
    "    entropy = compute_entropy(X, target)\n",
    "    conditional_entropy = compute_conditional_entropy(X, target, feature) \n",
    "    return entropy - conditional_entropy\n",
    "    \n",
    "    "
   ]
  },
  {
   "cell_type": "code",
   "execution_count": 11,
   "metadata": {},
   "outputs": [
    {
     "data": {
      "text/plain": [
       "0.9402859586706311"
      ]
     },
     "execution_count": 11,
     "metadata": {},
     "output_type": "execute_result"
    }
   ],
   "source": [
    "compute_entropy(D, 4)"
   ]
  },
  {
   "cell_type": "code",
   "execution_count": 12,
   "metadata": {},
   "outputs": [
    {
     "data": {
      "text/plain": [
       "0.6935361388961918"
      ]
     },
     "execution_count": 12,
     "metadata": {},
     "output_type": "execute_result"
    }
   ],
   "source": [
    "compute_conditional_entropy(D, 4, 0)"
   ]
  },
  {
   "cell_type": "code",
   "execution_count": 14,
   "metadata": {},
   "outputs": [
    {
     "data": {
      "text/plain": [
       "0.24674981977443933"
      ]
     },
     "execution_count": 14,
     "metadata": {},
     "output_type": "execute_result"
    }
   ],
   "source": [
    "compute_information_gain(D, 4, 0)"
   ]
  },
  {
   "cell_type": "code",
   "execution_count": 16,
   "metadata": {},
   "outputs": [],
   "source": [
    "class TreeNode:\n",
    "    def __init__(self, feature, probs={}):\n",
    "        self.feature = feature\n",
    "        self.branches = {} \n",
    "        self.probs = probs\n",
    "    \n",
    "    def make_decision(self, data):\n",
    "        branch = self.branches.get(data[self.feature], None)\n",
    "        if branch is None:\n",
    "            pair = max(self.probs.items(), key=lambda x: x[1])\n",
    "            return pair[0]\n",
    "        return branch.make_decision(data)"
   ]
  },
  {
   "cell_type": "code",
   "execution_count": 17,
   "metadata": {},
   "outputs": [],
   "source": [
    "def get_best_splitting_feature(X, target, used_features):\n",
    "    num_features = len(X[0])\n",
    "    best_gain = -1\n",
    "    best_feature = -1\n",
    "    for i in range(num_features):\n",
    "        if i != target and i not in used_features:\n",
    "            current_gain = compute_information_gain(D, target, i)\n",
    "            if current_gain > best_gain:\n",
    "                current_gain = best_gain\n",
    "                best_feature = i \n",
    "    if best_feature != -1:\n",
    "        return best_feature \n",
    "    return -1"
   ]
  },
  {
   "cell_type": "code",
   "execution_count": 18,
   "metadata": {},
   "outputs": [],
   "source": [
    "def get_probs(X, target):\n",
    "    N = len(X)\n",
    "    counts = defaultdict(float)\n",
    "    for x in X:\n",
    "        counts[x[target]] += 1.0\n",
    "    counts = dict(counts)\n",
    "    for k, v in counts.items():\n",
    "        counts[k] = v / N \n",
    "    return counts"
   ]
  },
  {
   "cell_type": "code",
   "execution_count": 19,
   "metadata": {},
   "outputs": [],
   "source": [
    "def build_decision_tree(X, target, used_features=set()):\n",
    "    if len(used_features) == (len(X[0]) - 1):\n",
    "        return None\n",
    "    feature = get_best_splitting_feature(X, target, used_features)\n",
    "    probs = get_probs(X, target)\n",
    "    used_features = used_features | set([feature])\n",
    "    root = TreeNode(feature, probs)\n",
    "    possible_values = set(X[:, feature])\n",
    "    for possible_value in possible_values:\n",
    "        X1 = X[X[:, feature] == possible_value]\n",
    "        root.branches[possible_value] = build_decision_tree(X1, target, used_features)\n",
    "    return root "
   ]
  },
  {
   "cell_type": "code",
   "execution_count": 20,
   "metadata": {},
   "outputs": [],
   "source": [
    "root = build_decision_tree(D, 4)"
   ]
  },
  {
   "cell_type": "code",
   "execution_count": 21,
   "metadata": {},
   "outputs": [
    {
     "data": {
      "text/plain": [
       "1"
      ]
     },
     "execution_count": 21,
     "metadata": {},
     "output_type": "execute_result"
    }
   ],
   "source": [
    "root.make_decision(D[1])"
   ]
  },
  {
   "cell_type": "code",
   "execution_count": 15,
   "metadata": {},
   "outputs": [
    {
     "data": {
      "text/plain": [
       "{1: 0.6428571428571429, 0: 0.35714285714285715}"
      ]
     },
     "execution_count": 15,
     "metadata": {},
     "output_type": "execute_result"
    }
   ],
   "source": [
    "get_probs(D, 4)"
   ]
  },
  {
   "cell_type": "code",
   "execution_count": null,
   "metadata": {},
   "outputs": [],
   "source": []
  }
 ],
 "metadata": {
  "kernelspec": {
   "display_name": "Python 3",
   "language": "python",
   "name": "python3"
  },
  "language_info": {
   "codemirror_mode": {
    "name": "ipython",
    "version": 3
   },
   "file_extension": ".py",
   "mimetype": "text/x-python",
   "name": "python",
   "nbconvert_exporter": "python",
   "pygments_lexer": "ipython3",
   "version": "3.8.2-final"
  }
 },
 "nbformat": 4,
 "nbformat_minor": 4
}